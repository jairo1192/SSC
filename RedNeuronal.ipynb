{
 "cells": [
  {
   "cell_type": "code",
   "execution_count": 28,
   "metadata": {
    "collapsed": true
   },
   "outputs": [],
   "source": [
    "#importamos tensorflow y numpy\n",
    "import tensorflow as tf\n",
    "import numpy as np\n",
    "import pandas as pd"
   ]
  },
  {
   "cell_type": "code",
   "execution_count": 29,
   "outputs": [],
   "source": [
    "#declaramos arreglos en np de celsius y fahrenheit para la capa de entrada que usara para aprender\n",
    "#celsius = np.array([-40, -10, 0, 8, 15, 22, 38, 43, 54, 67], dtype=float)\n",
    "#fahrenheit = np.array([-40, 14, 32, 46, 59, 72, 100, 109.4, 129.2, 152.6], dtype=float)\n",
    "temperaturas = pd.read_csv(\"datasets/TemperaturasCelsiusFahrenheit.csv\")\n",
    "celsius = temperaturas.Celsius\n",
    "fahrenheit = temperaturas.Fahrenheit\n"
   ],
   "metadata": {
    "collapsed": false,
    "pycharm": {
     "name": "#%%\n"
    }
   }
  },
  {
   "cell_type": "code",
   "execution_count": 30,
   "outputs": [],
   "source": [
    "#diseñamos nuestro modelo de red neuronal con tensorflow y keras\n",
    "#keras nos ayuda ahorrar lineas de codigo al hacer nuestras capas de redes neuronales\n",
    "#espeficicamos la capa de salida como tipo densa que tienen conexiones de cada neurona a todas la neuronas\n",
    "#especificamos  las units, neuronas de la capa, usamos la variable input_shape para especificar una entrada con una neurona\n",
    "capa = tf.keras.layers.Dense(units=1, input_shape=[1])\n",
    "#usamos el modelo de keras secuencial y le indicamos que capa usamos\n",
    "modelo = tf.keras.Sequential([capa])\n"
   ],
   "metadata": {
    "collapsed": false,
    "pycharm": {
     "name": "#%%\n"
    }
   }
  },
  {
   "cell_type": "code",
   "execution_count": 31,
   "outputs": [],
   "source": [
    "#preparamos el modelo para ser entrenado definiendo algunas propiedades\n",
    "modelo.compile(\n",
    "    optimizer=tf.keras.optimizers.Adam(0.1),\n",
    "    #indicamos la propiedad de optimizador con la funcion Adam para que la red sepa como ajustar los pesos y sesgos\n",
    "    #con una taza de aprendizaje de 0.1 para el ajuste de pesos y sesgos\n",
    "    #usamos mean_squared para la funcion de perdida\n",
    "    loss='mean_squared_error'\n",
    ")\n"
   ],
   "metadata": {
    "collapsed": false,
    "pycharm": {
     "name": "#%%\n"
    }
   }
  },
  {
   "cell_type": "code",
   "execution_count": 32,
   "outputs": [
    {
     "name": "stdout",
     "output_type": "stream",
     "text": [
      "Empezando entrenamiento...\n",
      "WARNING:tensorflow:Keras is training/fitting/evaluating on array-like data. Keras may not be optimized for this format, so if your input data format is supported by TensorFlow I/O (https://github.com/tensorflow/io) we recommend using that to load a Dataset instead.\n",
      "Modelo entrenado! :D\n"
     ]
    }
   ],
   "source": [
    "#empezamos el entrenamiento del modelo\n",
    "print(\"Empezando entrenamiento...\")\n",
    "#usamos la funcion fit para el entrenamiento indicandole los datos de entrada y resultados esperados\n",
    "historial = modelo.fit(celsius, fahrenheit, epochs=1000, verbose=False)#con epochos indicamos la cantidad de vueltas debe intentarlo\n",
    "print(\"Modelo entrenado! :D\")"
   ],
   "metadata": {
    "collapsed": false,
    "pycharm": {
     "name": "#%%\n"
    }
   }
  },
  {
   "cell_type": "code",
   "execution_count": 33,
   "outputs": [
    {
     "data": {
      "text/plain": "[<matplotlib.lines.Line2D at 0x21a06cbf070>]"
     },
     "execution_count": 33,
     "metadata": {},
     "output_type": "execute_result"
    },
    {
     "data": {
      "text/plain": "<Figure size 640x480 with 1 Axes>",
      "image/png": "[encoded data removed]"
     },
     "metadata": {},
     "output_type": "display_data"
    }
   ],
   "source": [
    "#observemos el resultado de la funcion de perdida antes de intentar predecir para ver como le fue a la red en cada vuelta\n",
    "import matplotlib.pyplot as plt\n",
    "plt.xlabel(\"# Ciclos\")\n",
    "plt.ylabel(\"Magnitud de perdida\")\n",
    "plt.plot(historial.history[\"loss\"])"
   ],
   "metadata": {
    "collapsed": false,
    "pycharm": {
     "name": "#%%\n"
    }
   }
  },
  {
   "cell_type": "code",
   "execution_count": 38,
   "outputs": [
    {
     "name": "stdout",
     "output_type": "stream",
     "text": [
      "Primera prediccion\n",
      "1/1 [==============================] - 0s 155ms/step\b\b\b\b\b\b\b\b\b\b\b\b\b\b\b\b\b\b\b\b\b\b\b\b\b\b\b\b\b\b\b\b\b\b\b\b\b\b\b\b\n",
      "El resultado es [[212.17001]] Fahrenheit\n"
     ]
    }
   ],
   "source": [
    "#Comencemos con las predicciones, usando un valor que no este en los arreglos de celsius ni fahrenheit\n",
    "print(\"Primera prediccion\")\n",
    "dato = input(\"Introduce la cantidad de grados celsius que deseas convertir a fahrenheit\")\n",
    "dato = float(dato)\n",
    "resultado = modelo.predict([dato])\n",
    "print(\"El resultado es \" + str(resultado) + \" Fahrenheit\")"
   ],
   "metadata": {
    "collapsed": false,
    "pycharm": {
     "name": "#%%\n"
    }
   }
  },
  {
   "cell_type": "code",
   "execution_count": 37,
   "outputs": [
    {
     "name": "stdout",
     "output_type": "stream",
     "text": [
      "variables internas del modelo\n",
      "[array([[1.8063847]], dtype=float32), array([31.531532], dtype=float32)]\n"
     ]
    }
   ],
   "source": [
    "#ahora veamos que valores uso para el peso de las conexiones y el sesgo en los nodos\n",
    "print(\"variables internas del modelo\")\n",
    "print(capa.get_weights())#usamos get_weights para que nos muestre los valores que uso\n"
   ],
   "metadata": {
    "collapsed": false,
    "pycharm": {
     "name": "#%%\n"
    }
   }
  }
 ],
 "metadata": {
  "kernelspec": {
   "display_name": "Python 3",
   "language": "python",
   "name": "python3"
  },
  "language_info": {
   "codemirror_mode": {
    "name": "ipython",
    "version": 2
   },
   "file_extension": ".py",
   "mimetype": "text/x-python",
   "name": "python",
   "nbconvert_exporter": "python",
   "pygments_lexer": "ipython2",
   "version": "2.7.6"
  }
 },
 "nbformat": 4,
 "nbformat_minor": 0
}